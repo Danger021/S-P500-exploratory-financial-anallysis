{
 "cells": [
  {
   "cell_type": "code",
   "execution_count": 8,
   "metadata": {},
   "outputs": [],
   "source": [
    "#lets do a exploratory analysis of the data\n",
    "import pandas as pd\n",
    "import numpy as np\n",
    "import matplotlib.pyplot as plt\n",
    "import seaborn as sns\n"
   ]
  },
  {
   "cell_type": "code",
   "execution_count": 14,
   "metadata": {},
   "outputs": [],
   "source": [
    "#importing the data\n",
    "df_companies = pd.read_csv(r'C:\\Users\\Gabriel Makhoul\\Desktop\\Ada Tech\\Modulo 2\\Prova\\archive\\sp500_companies.csv', delimiter = ',')\n",
    "df_index = pd.read_csv(r'C:\\Users\\Gabriel Makhoul\\Desktop\\Ada Tech\\Modulo 2\\Prova\\archive\\sp500_index.csv', delimiter = ',')\n",
    "df_stocks = pd.read_csv(r'C:\\Users\\Gabriel Makhoul\\Desktop\\Ada Tech\\Modulo 2\\Prova\\archive\\sp500_stocks.csv', delimiter = ',')"
   ]
  }
 ],
 "metadata": {
  "kernelspec": {
   "display_name": "Python 3",
   "language": "python",
   "name": "python3"
  },
  "language_info": {
   "codemirror_mode": {
    "name": "ipython",
    "version": 3
   },
   "file_extension": ".py",
   "mimetype": "text/x-python",
   "name": "python",
   "nbconvert_exporter": "python",
   "pygments_lexer": "ipython3",
   "version": "3.11.2"
  }
 },
 "nbformat": 4,
 "nbformat_minor": 2
}
